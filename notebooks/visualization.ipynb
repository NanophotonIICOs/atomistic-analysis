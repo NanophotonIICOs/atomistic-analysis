{
 "cells": [
  {
   "cell_type": "code",
   "execution_count": 9,
   "metadata": {},
   "outputs": [
    {
     "name": "stdout",
     "output_type": "stream",
     "text": [
      "fermi_levels error in file:../../../../dft/pts2/2x2supercellPtS2/strain/Aniso/magnetic/PtS2_vacPt_magnetic_0.004.gpw\n",
      "fermi_levels error in file:../../../../dft/pts2/2x2supercellPtS2/strain/Aniso/magnetic/PtS2_vacPt_magnetic_0.006.gpw\n",
      "fermi_levels error in file:../../../../dft/pts2/2x2supercellPtS2/strain/Aniso/magnetic/PtS2_vacPt_magnetic_0.008.gpw\n"
     ]
    }
   ],
   "source": [
    "from ase.visualize import view\n",
    "import numpy as np\n",
    "import matplotlib.pyplot as plt\n",
    "from ase.spectrum.band_structure import BandStructure\n",
    "from gpaw.new.ase_interface import GPAW\n",
    "from ase.io import read, write\n",
    "from tqdm import tqdm\n",
    "\n",
    "files = !ls ../../../../dft/pts2/2x2supercellPtS2/strain/Aniso/magnetic/*.gpw\n",
    "files = sorted(files)\n",
    "files[0:11]= files[0:11][::-1]\n",
    "lenfiles = len(files)\n",
    "energies = []\n",
    "magmoms = []\n",
    "addatoms = []\n",
    "for i in range(lenfiles):\n",
    "    try:\n",
    "        atoms = GPAW(files[i]).get_atoms()\n",
    "        addatoms.append(atoms)\n",
    "        energy = atoms.get_potential_energy()\n",
    "        magmom = atoms.calc.calculation.magmoms()[0]\n",
    "        energies.append(energy)\n",
    "        magmoms.append(np.linalg.norm(magmom))\n",
    "    except Exception as error:\n",
    "        print('%s error in file:%s'%(error,files[i]))\n",
    "\n",
    "        \n"
   ]
  },
  {
   "cell_type": "code",
   "execution_count": 6,
   "metadata": {},
   "outputs": [
    {
     "data": {
      "text/plain": [
       "['../../../../dft/pts2/2x2supercellPtS2/strain/Aniso/magnetic/PtS2_vacPt_magnetic_-0.07.traj',\n",
       " '../../../../dft/pts2/2x2supercellPtS2/strain/Aniso/magnetic/PtS2_vacPt_magnetic_-0.06.traj',\n",
       " '../../../../dft/pts2/2x2supercellPtS2/strain/Aniso/magnetic/PtS2_vacPt_magnetic_-0.05.traj',\n",
       " '../../../../dft/pts2/2x2supercellPtS2/strain/Aniso/magnetic/PtS2_vacPt_magnetic_-0.04.traj',\n",
       " '../../../../dft/pts2/2x2supercellPtS2/strain/Aniso/magnetic/PtS2_vacPt_magnetic_-0.03.traj',\n",
       " '../../../../dft/pts2/2x2supercellPtS2/strain/Aniso/magnetic/PtS2_vacPt_magnetic_-0.02.traj',\n",
       " '../../../../dft/pts2/2x2supercellPtS2/strain/Aniso/magnetic/PtS2_vacPt_magnetic_-0.01.traj',\n",
       " '../../../../dft/pts2/2x2supercellPtS2/strain/Aniso/magnetic/PtS2_vacPt_magnetic_-0.008.traj',\n",
       " '../../../../dft/pts2/2x2supercellPtS2/strain/Aniso/magnetic/PtS2_vacPt_magnetic_-0.006.traj',\n",
       " '../../../../dft/pts2/2x2supercellPtS2/strain/Aniso/magnetic/PtS2_vacPt_magnetic_-0.004.traj',\n",
       " '../../../../dft/pts2/2x2supercellPtS2/strain/Aniso/magnetic/PtS2_vacPt_magnetic_-0.002.traj',\n",
       " '../../../../dft/pts2/2x2supercellPtS2/strain/Aniso/magnetic/PtS2_vacPt_magnetic_0.0.traj',\n",
       " '../../../../dft/pts2/2x2supercellPtS2/strain/Aniso/magnetic/PtS2_vacPt_magnetic_0.002.traj',\n",
       " '../../../../dft/pts2/2x2supercellPtS2/strain/Aniso/magnetic/PtS2_vacPt_magnetic_0.004.traj',\n",
       " '../../../../dft/pts2/2x2supercellPtS2/strain/Aniso/magnetic/PtS2_vacPt_magnetic_0.006.traj',\n",
       " '../../../../dft/pts2/2x2supercellPtS2/strain/Aniso/magnetic/PtS2_vacPt_magnetic_0.008.traj',\n",
       " '../../../../dft/pts2/2x2supercellPtS2/strain/Aniso/magnetic/PtS2_vacPt_magnetic_0.01.traj',\n",
       " '../../../../dft/pts2/2x2supercellPtS2/strain/Aniso/magnetic/PtS2_vacPt_magnetic_0.02.traj']"
      ]
     },
     "execution_count": 6,
     "metadata": {},
     "output_type": "execute_result"
    }
   ],
   "source": [
    "import py3Dmol\n",
    "\n",
    "trajfiles = !ls ../../../../dft/pts2/2x2supercellPtS2/strain/Aniso/magnetic/*.traj\n",
    "trajfiles = sorted(trajfiles)\n",
    "trajfiles[0:11]= trajfiles[0:11][::-1]\n",
    "lenfiles = len(trajfiles)\n"
   ]
  },
  {
   "cell_type": "code",
   "execution_count": 34,
   "metadata": {},
   "outputs": [
    {
     "data": {
      "application/3dmoljs_load.v0": "<div id=\"3dmolviewer_1672443719285564\"  style=\"position: relative; width: 300px; height: 300px\">\n        <p id=\"3dmolwarning_1672443719285564\" style=\"background-color:#ffcccc;color:black\">You appear to be running in JupyterLab (or JavaScript failed to load for some other reason).  You need to install the 3dmol extension: <br>\n        <tt>jupyter labextension install jupyterlab_3dmol</tt></p>\n        </div>\n<script>\n\nvar loadScriptAsync = function(uri){\n  return new Promise((resolve, reject) => {\n    var tag = document.createElement('script');\n    tag.src = uri;\n    tag.async = true;\n    tag.onload = () => {\n      resolve();\n    };\n  var firstScriptTag = document.getElementsByTagName('script')[0];\n  firstScriptTag.parentNode.insertBefore(tag, firstScriptTag);\n});\n};\n\nif(typeof $3Dmolpromise === 'undefined') {\n$3Dmolpromise = null;\n  $3Dmolpromise = loadScriptAsync('https://cdn.jsdelivr.net/npm/3dmol@latest/build/3Dmol-min.min.js');\n}\n\nvar viewer_1672443719285564 = null;\nvar warn = document.getElementById(\"3dmolwarning_1672443719285564\");\nif(warn) {\n    warn.parentNode.removeChild(warn);\n}\n$3Dmolpromise.then(function() {\nviewer_1672443719285564 = $3Dmol.createViewer($(\"#3dmolviewer_1672443719285564\"),{backgroundColor:\"white\"});\nviewer_1672443719285564.zoomTo();\n\tviewer_1672443719285564.addModel(\"xyz-files/PtS2_vacPt_magnetic_-0.02.xyz\",\"xyz\");\nviewer_1672443719285564.render();\n});\n</script>",
      "text/html": [
       "<div id=\"3dmolviewer_1672443719285564\"  style=\"position: relative; width: 300px; height: 300px\">\n",
       "        <p id=\"3dmolwarning_1672443719285564\" style=\"background-color:#ffcccc;color:black\">You appear to be running in JupyterLab (or JavaScript failed to load for some other reason).  You need to install the 3dmol extension: <br>\n",
       "        <tt>jupyter labextension install jupyterlab_3dmol</tt></p>\n",
       "        </div>\n",
       "<script>\n",
       "\n",
       "var loadScriptAsync = function(uri){\n",
       "  return new Promise((resolve, reject) => {\n",
       "    var tag = document.createElement('script');\n",
       "    tag.src = uri;\n",
       "    tag.async = true;\n",
       "    tag.onload = () => {\n",
       "      resolve();\n",
       "    };\n",
       "  var firstScriptTag = document.getElementsByTagName('script')[0];\n",
       "  firstScriptTag.parentNode.insertBefore(tag, firstScriptTag);\n",
       "});\n",
       "};\n",
       "\n",
       "if(typeof $3Dmolpromise === 'undefined') {\n",
       "$3Dmolpromise = null;\n",
       "  $3Dmolpromise = loadScriptAsync('https://cdn.jsdelivr.net/npm/3dmol@latest/build/3Dmol-min.min.js');\n",
       "}\n",
       "\n",
       "var viewer_1672443719285564 = null;\n",
       "var warn = document.getElementById(\"3dmolwarning_1672443719285564\");\n",
       "if(warn) {\n",
       "    warn.parentNode.removeChild(warn);\n",
       "}\n",
       "$3Dmolpromise.then(function() {\n",
       "viewer_1672443719285564 = $3Dmol.createViewer($(\"#3dmolviewer_1672443719285564\"),{backgroundColor:\"white\"});\n",
       "viewer_1672443719285564.zoomTo();\n",
       "\tviewer_1672443719285564.addModel(\"xyz-files/PtS2_vacPt_magnetic_-0.02.xyz\",\"xyz\");\n",
       "viewer_1672443719285564.render();\n",
       "});\n",
       "</script>"
      ]
     },
     "metadata": {},
     "output_type": "display_data"
    }
   ],
   "source": [
    "# for file in trajfiles:\n",
    "#     write('xyz-files/%s.xyz'%(file.split('/')[-1].split('.traj')[0]),read(file))\n",
    "xyz_files = !ls xyz-files/*.xyz\n",
    "\n",
    "xyzview = py3Dmol.view(width=300,height=300)\n",
    "xyzview.addModel(xyz_files[10],'xyz',)\n",
    "xyzview.show()\n"
   ]
  },
  {
   "cell_type": "code",
   "execution_count": 35,
   "metadata": {},
   "outputs": [
    {
     "data": {
      "text/plain": [
       "Atoms(symbols='PtS2PtS2PtS4', pbc=[True, True, False], cell=[[6.213143374878775, 3.57284, 0.0], [-6.213143374878774, 3.5728400000000002, 0.0], [0.0, 0.0, 18.127]], initial_magmoms=..., magmoms=..., calculator=SinglePointCalculator(...))"
      ]
     },
     "execution_count": 35,
     "metadata": {},
     "output_type": "execute_result"
    }
   ],
   "source": [
    "read(xyz_files[0])"
   ]
  }
 ],
 "metadata": {
  "kernelspec": {
   "display_name": "analysis",
   "language": "python",
   "name": "python3"
  },
  "language_info": {
   "codemirror_mode": {
    "name": "ipython",
    "version": 3
   },
   "file_extension": ".py",
   "mimetype": "text/x-python",
   "name": "python",
   "nbconvert_exporter": "python",
   "pygments_lexer": "ipython3",
   "version": "3.10.6"
  },
  "orig_nbformat": 4,
  "vscode": {
   "interpreter": {
    "hash": "df25c19a347952bfe2454233f6a75c22b3faf5a612c0c19bb8226f0bd8aea55f"
   }
  }
 },
 "nbformat": 4,
 "nbformat_minor": 2
}
