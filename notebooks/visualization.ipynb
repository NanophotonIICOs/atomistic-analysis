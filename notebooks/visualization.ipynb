{
 "cells": [
  {
   "cell_type": "code",
   "execution_count": 37,
   "metadata": {},
   "outputs": [
    {
     "name": "stdout",
     "output_type": "stream",
     "text": [
      "fermi_levels error in file:../../../../dft/pts2/2x2supercellPtS2/strain/Aniso/magnetic/PtS2_vacPt_magnetic_0.004.gpw\n",
      "fermi_levels error in file:../../../../dft/pts2/2x2supercellPtS2/strain/Aniso/magnetic/PtS2_vacPt_magnetic_0.006.gpw\n",
      "fermi_levels error in file:../../../../dft/pts2/2x2supercellPtS2/strain/Aniso/magnetic/PtS2_vacPt_magnetic_0.008.gpw\n"
     ]
    }
   ],
   "source": [
    "from ase.visualize import view\n",
    "import numpy as np\n",
    "import matplotlib.pyplot as plt\n",
    "from ase.spectrum.band_structure import BandStructure\n",
    "from gpaw.new.ase_interface import GPAW\n",
    "from ase.io import read, write\n",
    "from tqdm import tqdm\n",
    "\n",
    "files = !ls ../../../../dft/pts2/2x2supercellPtS2/strain/Aniso/magnetic/*.gpw\n",
    "files = sorted(files)\n",
    "files[0:11]= files[0:11][::-1]\n",
    "lenfiles = len(files)\n",
    "energies = []\n",
    "magmoms = []\n",
    "addatoms = []\n",
    "for i in range(lenfiles):\n",
    "    try:\n",
    "        atoms = GPAW(files[i]).get_atoms()\n",
    "        addatoms.append(atoms)\n",
    "        energy = atoms.get_potential_energy()\n",
    "        magmom = atoms.calc.calculation.magmoms()[0]\n",
    "        energies.append(energy)\n",
    "        magmoms.append(np.linalg.norm(magmom))\n",
    "    except Exception as error:\n",
    "        print('%s error in file:%s'%(error,files[i]))\n",
    "\n",
    "        \n",
    "        \n",
    "        \n"
   ]
  },
  {
   "cell_type": "code",
   "execution_count": 38,
   "metadata": {},
   "outputs": [],
   "source": [
    "import py3Dmol\n",
    "\n",
    "trajfiles = !ls ../../../../dft/pts2/2x2supercellPtS2/strain/Aniso/magnetic/*.traj\n",
    "trajfiles = sorted(trajfiles)\n",
    "trajfiles[0:11]= trajfiles[0:11][::-1]\n",
    "lenfiles = len(trajfiles)\n"
   ]
  },
  {
   "cell_type": "code",
   "execution_count": 40,
   "metadata": {},
   "outputs": [
    {
     "data": {
      "application/3dmoljs_load.v0": "<div id=\"3dmolviewer_16725305887585628\"  style=\"position: relative; width: 300px; height: 300px\">\n        <p id=\"3dmolwarning_16725305887585628\" style=\"background-color:#ffcccc;color:black\">You appear to be running in JupyterLab (or JavaScript failed to load for some other reason).  You need to install the 3dmol extension: <br>\n        <tt>jupyter labextension install jupyterlab_3dmol</tt></p>\n        </div>\n<script>\n\nvar loadScriptAsync = function(uri){\n  return new Promise((resolve, reject) => {\n    var tag = document.createElement('script');\n    tag.src = uri;\n    tag.async = true;\n    tag.onload = () => {\n      resolve();\n    };\n  var firstScriptTag = document.getElementsByTagName('script')[0];\n  firstScriptTag.parentNode.insertBefore(tag, firstScriptTag);\n});\n};\n\nif(typeof $3Dmolpromise === 'undefined') {\n$3Dmolpromise = null;\n  $3Dmolpromise = loadScriptAsync('https://cdn.jsdelivr.net/npm/3dmol@latest/build/3Dmol-min.min.js');\n}\n\nvar viewer_16725305887585628 = null;\nvar warn = document.getElementById(\"3dmolwarning_16725305887585628\");\nif(warn) {\n    warn.parentNode.removeChild(warn);\n}\n$3Dmolpromise.then(function() {\nviewer_16725305887585628 = $3Dmol.createViewer($(\"#3dmolviewer_16725305887585628\"),{backgroundColor:\"white\"});\nviewer_16725305887585628.zoomTo();\n\tviewer_16725305887585628.addModel(\"ls: cannot access 'xyz-files/*.xyz': No such file or directory\",\"xyz\");\nviewer_16725305887585628.render();\n});\n</script>",
      "text/html": [
       "<div id=\"3dmolviewer_16725305887585628\"  style=\"position: relative; width: 300px; height: 300px\">\n",
       "        <p id=\"3dmolwarning_16725305887585628\" style=\"background-color:#ffcccc;color:black\">You appear to be running in JupyterLab (or JavaScript failed to load for some other reason).  You need to install the 3dmol extension: <br>\n",
       "        <tt>jupyter labextension install jupyterlab_3dmol</tt></p>\n",
       "        </div>\n",
       "<script>\n",
       "\n",
       "var loadScriptAsync = function(uri){\n",
       "  return new Promise((resolve, reject) => {\n",
       "    var tag = document.createElement('script');\n",
       "    tag.src = uri;\n",
       "    tag.async = true;\n",
       "    tag.onload = () => {\n",
       "      resolve();\n",
       "    };\n",
       "  var firstScriptTag = document.getElementsByTagName('script')[0];\n",
       "  firstScriptTag.parentNode.insertBefore(tag, firstScriptTag);\n",
       "});\n",
       "};\n",
       "\n",
       "if(typeof $3Dmolpromise === 'undefined') {\n",
       "$3Dmolpromise = null;\n",
       "  $3Dmolpromise = loadScriptAsync('https://cdn.jsdelivr.net/npm/3dmol@latest/build/3Dmol-min.min.js');\n",
       "}\n",
       "\n",
       "var viewer_16725305887585628 = null;\n",
       "var warn = document.getElementById(\"3dmolwarning_16725305887585628\");\n",
       "if(warn) {\n",
       "    warn.parentNode.removeChild(warn);\n",
       "}\n",
       "$3Dmolpromise.then(function() {\n",
       "viewer_16725305887585628 = $3Dmol.createViewer($(\"#3dmolviewer_16725305887585628\"),{backgroundColor:\"white\"});\n",
       "viewer_16725305887585628.zoomTo();\n",
       "\tviewer_16725305887585628.addModel(\"ls: cannot access 'xyz-files/*.xyz': No such file or directory\",\"xyz\");\n",
       "viewer_16725305887585628.render();\n",
       "});\n",
       "</script>"
      ]
     },
     "metadata": {},
     "output_type": "display_data"
    }
   ],
   "source": [
    "# for file in trajfiles:\n",
    "#     write('xyz-files/%s.xyz'%(file.split('/')[-1].split('.traj')[0]),read(file))\n",
    "xyz_files = !ls xyz-files/*.xyz\n",
    "xyzview = py3Dmol.view(width=300,height=300)\n",
    "xyzview.addModel(xyz_files[0],'xyz',)\n",
    "xyzview.show()\n"
   ]
  },
  {
   "cell_type": "code",
   "execution_count": 41,
   "metadata": {},
   "outputs": [
    {
     "ename": "FileNotFoundError",
     "evalue": "[Errno 2] No such file or directory: \"ls: cannot access 'xyz-files/*.xyz': No such file or directory\"",
     "output_type": "error",
     "traceback": [
      "\u001b[0;31m---------------------------------------------------------------------------\u001b[0m",
      "\u001b[0;31mFileNotFoundError\u001b[0m                         Traceback (most recent call last)",
      "Cell \u001b[0;32mIn[41], line 1\u001b[0m\n\u001b[0;32m----> 1\u001b[0m read(xyz_files[\u001b[39m0\u001b[39;49m])\n",
      "File \u001b[0;32m~/anaconda3/envs/analysis/lib/python3.10/site-packages/ase/io/formats.py:729\u001b[0m, in \u001b[0;36mread\u001b[0;34m(filename, index, format, parallel, do_not_split_by_at_sign, **kwargs)\u001b[0m\n\u001b[1;32m    727\u001b[0m \u001b[39mif\u001b[39;00m index \u001b[39mis\u001b[39;00m \u001b[39mNone\u001b[39;00m:\n\u001b[1;32m    728\u001b[0m     index \u001b[39m=\u001b[39m \u001b[39m-\u001b[39m\u001b[39m1\u001b[39m\n\u001b[0;32m--> 729\u001b[0m \u001b[39mformat\u001b[39m \u001b[39m=\u001b[39m \u001b[39mformat\u001b[39m \u001b[39mor\u001b[39;00m filetype(filename, read\u001b[39m=\u001b[39;49m\u001b[39misinstance\u001b[39;49m(filename, \u001b[39mstr\u001b[39;49m))\n\u001b[1;32m    731\u001b[0m io \u001b[39m=\u001b[39m get_ioformat(\u001b[39mformat\u001b[39m)\n\u001b[1;32m    732\u001b[0m \u001b[39mif\u001b[39;00m \u001b[39misinstance\u001b[39m(index, (\u001b[39mslice\u001b[39m, \u001b[39mstr\u001b[39m)):\n",
      "File \u001b[0;32m~/anaconda3/envs/analysis/lib/python3.10/site-packages/ase/io/formats.py:920\u001b[0m, in \u001b[0;36mfiletype\u001b[0;34m(filename, read, guess)\u001b[0m\n\u001b[1;32m    917\u001b[0m     \u001b[39mreturn\u001b[39;00m ext\n\u001b[1;32m    919\u001b[0m \u001b[39mif\u001b[39;00m orig_filename \u001b[39m==\u001b[39m filename:\n\u001b[0;32m--> 920\u001b[0m     fd \u001b[39m=\u001b[39m open_with_compression(filename, \u001b[39m'\u001b[39;49m\u001b[39mrb\u001b[39;49m\u001b[39m'\u001b[39;49m)\n\u001b[1;32m    921\u001b[0m \u001b[39melse\u001b[39;00m:\n\u001b[1;32m    922\u001b[0m     fd \u001b[39m=\u001b[39m orig_filename  \u001b[39m# type: ignore\u001b[39;00m\n",
      "File \u001b[0;32m~/anaconda3/envs/analysis/lib/python3.10/site-packages/ase/io/formats.py:551\u001b[0m, in \u001b[0;36mopen_with_compression\u001b[0;34m(filename, mode)\u001b[0m\n\u001b[1;32m    548\u001b[0m     \u001b[39mreturn\u001b[39;00m lzma\u001b[39m.\u001b[39mopen(filename, mode)\n\u001b[1;32m    549\u001b[0m \u001b[39melse\u001b[39;00m:\n\u001b[1;32m    550\u001b[0m     \u001b[39m# Either None or unknown string\u001b[39;00m\n\u001b[0;32m--> 551\u001b[0m     \u001b[39mreturn\u001b[39;00m \u001b[39mopen\u001b[39;49m(filename, mode)\n",
      "\u001b[0;31mFileNotFoundError\u001b[0m: [Errno 2] No such file or directory: \"ls: cannot access 'xyz-files/*.xyz': No such file or directory\""
     ]
    }
   ],
   "source": [
    "read(xyz_files[0])"
   ]
  }
 ],
 "metadata": {
  "kernelspec": {
   "display_name": "analysis",
   "language": "python",
   "name": "python3"
  },
  "language_info": {
   "codemirror_mode": {
    "name": "ipython",
    "version": 3
   },
   "file_extension": ".py",
   "mimetype": "text/x-python",
   "name": "python",
   "nbconvert_exporter": "python",
   "pygments_lexer": "ipython3",
   "version": "3.10.6"
  },
  "orig_nbformat": 4,
  "vscode": {
   "interpreter": {
    "hash": "df25c19a347952bfe2454233f6a75c22b3faf5a612c0c19bb8226f0bd8aea55f"
   }
  }
 },
 "nbformat": 4,
 "nbformat_minor": 2
}
