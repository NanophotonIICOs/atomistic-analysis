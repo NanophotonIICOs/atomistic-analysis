{
 "cells": [
  {
   "cell_type": "code",
   "execution_count": 1,
   "metadata": {},
   "outputs": [
    {
     "name": "stderr",
     "output_type": "stream",
     "text": [
      "No protocol specified\n"
     ]
    },
    {
     "name": "stdout",
     "output_type": "stream",
     "text": [
      "fermi_levels error in file:../../../../dft/pts2/2x2supercellPtS2/strain/Aniso/magnetic/PtS2_vacPt_magnetic_0.004.gpw\n",
      "fermi_levels error in file:../../../../dft/pts2/2x2supercellPtS2/strain/Aniso/magnetic/PtS2_vacPt_magnetic_0.006.gpw\n",
      "fermi_levels error in file:../../../../dft/pts2/2x2supercellPtS2/strain/Aniso/magnetic/PtS2_vacPt_magnetic_0.008.gpw\n"
     ]
    }
   ],
   "source": [
    "from ase.visualize import view\n",
    "import numpy as np\n",
    "import matplotlib.pyplot as plt\n",
    "from ase.spectrum.band_structure import BandStructure\n",
    "from gpaw.new.ase_interface import GPAW\n",
    "\n",
    "files = !ls ../../../../dft/pts2/2x2supercellPtS2/strain/Aniso/magnetic/*.gpw\n",
    "files = sorted(files)\n",
    "files[0:11]= files[0:11][::-1]\n",
    "lenfiles = len(files)\n",
    "energies = []\n",
    "magmoms = []\n",
    "addatoms = []\n",
    "for i in range(lenfiles):\n",
    "    try:\n",
    "        atoms = GPAW(files[i]).get_atoms()\n",
    "        addatoms.append(atoms)\n",
    "        energy = atoms.get_potential_energy()\n",
    "        magmom = atoms.calc.calculation.magmoms()[0]\n",
    "        energies.append(energy)\n",
    "        magmoms.append(np.linalg.norm(magmom))\n",
    "    except Exception as error:\n",
    "        print('%s error in file:%s'%(error,files[i]))\n",
    "\n",
    "        \n"
   ]
  },
  {
   "cell_type": "code",
   "execution_count": null,
   "metadata": {},
   "outputs": [],
   "source": []
  }
 ],
 "metadata": {
  "kernelspec": {
   "display_name": "analysis",
   "language": "python",
   "name": "python3"
  },
  "language_info": {
   "codemirror_mode": {
    "name": "ipython",
    "version": 3
   },
   "file_extension": ".py",
   "mimetype": "text/x-python",
   "name": "python",
   "nbconvert_exporter": "python",
   "pygments_lexer": "ipython3",
   "version": "3.10.6"
  },
  "orig_nbformat": 4,
  "vscode": {
   "interpreter": {
    "hash": "df25c19a347952bfe2454233f6a75c22b3faf5a612c0c19bb8226f0bd8aea55f"
   }
  }
 },
 "nbformat": 4,
 "nbformat_minor": 2
}
