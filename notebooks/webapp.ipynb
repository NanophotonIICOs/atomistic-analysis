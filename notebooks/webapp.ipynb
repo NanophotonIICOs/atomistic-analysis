{
 "cells": [
  {
   "cell_type": "code",
   "execution_count": 1,
   "metadata": {},
   "outputs": [
    {
     "data": {
      "text/plain": [
       "['2x2supercellPtS2', '3x3supercellPtS2', 'teststruct']"
      ]
     },
     "execution_count": 1,
     "metadata": {},
     "output_type": "execute_result"
    }
   ],
   "source": [
    "import numpy as np\n",
    "from ase.io.trajectory import Trajectory\n",
    "from ase.visualize import view\n",
    "from glob import glob\n",
    "sys.path.append('/media/rbnfiles/ruco/repos/atomistic-analysis/src')\n",
    "from opendata import data\n",
    "\n",
    "class data:\n",
    "    def __init__(self):\n",
    "        self.path  = \"/media/rbnfiles/dft/pts2/\"\n",
    "        self.folders = []\n",
    "        self.files = []\n",
    "        self.complete_folders= []\n",
    "        self.complete_files = []\n",
    "        for folder in glob(self.path+\"*\"):\n",
    "            self.folders.append(folder.split('/')[-1])\n",
    "            self.complete_folders.append(folder)\n",
    "        for folder in  self.complete_folders:\n",
    "            for filesinto in glob(folder+'/*.traj'):\n",
    "                self.complete_files.append(filesinto)\n",
    "\n",
    "    def get_list_samples(self,folder):\n",
    "        npath = self.path+'/'+folder\n",
    "        self.folder_samples=[]\n",
    "        for folderi in self.complete_folders:\n",
    "            if folder in folderi:\n",
    "                for filesinto in glob(folderi+'/*.traj'):\n",
    "                    #self.folder_samples.append(filesinto.split(self.path)[-1].split('/')[-1])\n",
    "                    self.folder_samples.append(filesinto)\n",
    "\n",
    "        return self.folder_samples\n",
    "\n",
    "\n",
    "    def return_data(self,file):\n",
    "        for files in self.complete_files:\n",
    "            if file in files:\n",
    "                self.select_file = file\n",
    "                break\n",
    "        return self.select_file\n",
    "data().folders"
   ]
  },
  {
   "cell_type": "code",
   "execution_count": 9,
   "metadata": {},
   "outputs": [
    {
     "name": "stdout",
     "output_type": "stream",
     "text": [
      "teststruct\n"
     ]
    },
    {
     "data": {
      "text/plain": [
       "['/media/rbnfiles/dft/pts2/teststruct/path_opt_PtSe2.traj',\n",
       " '/media/rbnfiles/dft/pts2/teststruct/path_opt_PtS2.traj',\n",
       " '/media/rbnfiles/dft/pts2/teststruct/uCellPtSe2.traj',\n",
       " '/media/rbnfiles/dft/pts2/teststruct/uCellPtS2.traj']"
      ]
     },
     "execution_count": 9,
     "metadata": {},
     "output_type": "execute_result"
    }
   ],
   "source": [
    "f = data().folders[2]\n",
    "print(f)\n",
    "data().get_list_samples(f)\n"
   ]
  },
  {
   "cell_type": "code",
   "execution_count": 2,
   "metadata": {},
   "outputs": [
    {
     "data": {
      "text/html": [
       "\n",
       "        <iframe\n",
       "            width=\"100%\"\n",
       "            height=\"650\"\n",
       "            src=\"http://127.0.0.1:8050/\"\n",
       "            frameborder=\"0\"\n",
       "            allowfullscreen\n",
       "            \n",
       "        ></iframe>\n",
       "        "
      ],
      "text/plain": [
       "<IPython.lib.display.IFrame at 0x7fb42319bac0>"
      ]
     },
     "metadata": {},
     "output_type": "display_data"
    }
   ],
   "source": [
    "from jupyter_dash import JupyterDash\n",
    "from dash import dcc\n",
    "from dash import html\n",
    "from pymatgen.core import Molecule\n",
    "import pymatgen.io.ase as pyase \n",
    "from pymatgen.io.ase import AseAtomsAdaptor\n",
    "from ase.io.trajectory import Trajectory\n",
    "from dash import Dash, dcc, html, Input, Output, State, MATCH, ALL\n",
    "\n",
    "\n",
    "\n",
    "app = JupyterDash(__name__)\n",
    "\n",
    "\n",
    "\n",
    "\n",
    "# structure = AseAtomsAdaptor.get_structure(atoms)\n",
    "# create our crystal structure using pymatgen\n",
    "\n",
    "app.layout = html.Div([\n",
    "    dcc.Dropdown(id='folder-container',\n",
    "                options=[{'label':folder, 'value':folder } for folder in data().complete_folders\n",
    "]),\n",
    "    dcc.Dropdown(id='file-select'),\n",
    "    \n",
    "    ])\n",
    "\n",
    "@app.callback(Output('file-select','options'),\n",
    "               Input('folder-container','value'))\n",
    "            \n",
    "def display_dropdowns(value):\n",
    "    return [i for i in data().get_list_samples(value)]\n",
    "\n",
    "\n",
    "if __name__ == \"__main__\":\n",
    "    app.run_server(mode='inline')"
   ]
  }
 ],
 "metadata": {
  "kernelspec": {
   "display_name": "Python 3.10.4 ('analysis')",
   "language": "python",
   "name": "python3"
  },
  "language_info": {
   "codemirror_mode": {
    "name": "ipython",
    "version": 3
   },
   "file_extension": ".py",
   "mimetype": "text/x-python",
   "name": "python",
   "nbconvert_exporter": "python",
   "pygments_lexer": "ipython3",
   "version": "3.10.4"
  },
  "orig_nbformat": 4,
  "vscode": {
   "interpreter": {
    "hash": "df25c19a347952bfe2454233f6a75c22b3faf5a612c0c19bb8226f0bd8aea55f"
   }
  }
 },
 "nbformat": 4,
 "nbformat_minor": 2
}
