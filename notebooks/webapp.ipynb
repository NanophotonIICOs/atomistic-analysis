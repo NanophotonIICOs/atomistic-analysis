{
 "cells": [
  {
   "cell_type": "code",
   "execution_count": 1,
   "metadata": {},
   "outputs": [
    {
     "data": {
      "text/plain": [
       "['2x2supercellPtS2', '3x3supercellPtS2', 'teststruct']"
      ]
     },
     "execution_count": 1,
     "metadata": {},
     "output_type": "execute_result"
    }
   ],
   "source": [
    "import numpy as np\n",
    "from ase.io.trajectory import Trajectory\n",
    "from ase.visualize import view\n",
    "from glob import glob\n",
    "sys.path.append('/media/rbnfiles/ruco/repos/atomistic-analysis/src')\n",
    "from opendata import data\n",
    "\n",
    "class data:\n",
    "    def __init__(self):\n",
    "        self.path  = \"/media/rbnfiles/dft/pts2/\"\n",
    "        self.folders = []\n",
    "        self.files = []\n",
    "        self.complete_folders= []\n",
    "        self.complete_files = []\n",
    "        for folder in glob(self.path+\"*\"):\n",
    "            self.folders.append(folder.split('/')[-1])\n",
    "            self.complete_folders.append(folder)\n",
    "        for folder in  self.complete_folders:\n",
    "            for filesinto in glob(folder+'/*.traj'):\n",
    "                self.complete_files.append(filesinto)\n",
    "\n",
    "    def get_list_samples(self,folder):\n",
    "        npath = self.path+'/'+folder\n",
    "        self.folder_samples=[]\n",
    "        for folderi in self.complete_folders:\n",
    "            if folder in folderi:\n",
    "                for filesinto in glob(folderi+'/*.traj'):\n",
    "                    #self.folder_samples.append(filesinto.split(self.path)[-1].split('/')[-1])\n",
    "                    self.folder_samples.append(filesinto)\n",
    "\n",
    "        return self.folder_samples\n",
    "\n",
    "\n",
    "    def return_data(self,file):\n",
    "        for files in self.complete_files:\n",
    "            if file in files:\n",
    "                self.select_file = file\n",
    "                break\n",
    "        return self.select_file\n",
    "data().folders"
   ]
  }
 ],
 "metadata": {
  "kernelspec": {
   "display_name": "Python 3.10.6 ('analysis')",
   "language": "python",
   "name": "python3"
  },
  "language_info": {
   "codemirror_mode": {
    "name": "ipython",
    "version": 3
   },
   "file_extension": ".py",
   "mimetype": "text/x-python",
   "name": "python",
   "nbconvert_exporter": "python",
   "pygments_lexer": "ipython3",
   "version": "3.10.6"
  },
  "orig_nbformat": 4,
  "vscode": {
   "interpreter": {
    "hash": "df25c19a347952bfe2454233f6a75c22b3faf5a612c0c19bb8226f0bd8aea55f"
   }
  }
 },
 "nbformat": 4,
 "nbformat_minor": 2
}
